{
 "cells": [
  {
   "cell_type": "markdown",
   "metadata": {
    "id": "Qn7JlRZjwkDz"
   },
   "source": [
    "You are provided with two datasets containing customers data for an online streaming service. The fields provided are:\n",
    "\n",
    "* **email:** the customer's email\n",
    "* **customer_id:** the customer's ID used internally by the company to identify customers\n",
    "* **data_joined:** the day the customer first joined the service\n",
    "* **total_spent:** the total amount in Euros that the customer spent on their membership since they joined the service\n",
    "* **membership_plan:** the monthly payable amount in Euros for the plan the customer choses.\n",
    "\n",
    "The **occupancy rate** is defined as what is fraction of the time does the customer have a running membership since their joining the service. Your task is to provide a ranked list of customers names (first and last names) based on their occupancy rate how long they have been a customer with the service. \n",
    "\n",
    "\n",
    "Assumptions: \n",
    " \n",
    "\n",
    "*   The customer might have stopped their membership and resumed it several times since they joined.\n",
    "*   The membership_plan is not changeable throughout the customer's life cycle.\n",
    "\n",
    "\n"
   ]
  },
  {
   "cell_type": "code",
   "execution_count": null,
   "metadata": {},
   "outputs": [],
   "source": []
  }
 ],
 "metadata": {
  "colab": {
   "name": "pandas_exercise_solutions.ipynb",
   "provenance": []
  },
  "kernelspec": {
   "display_name": "Python 3",
   "language": "python",
   "name": "python3"
  },
  "language_info": {
   "codemirror_mode": {
    "name": "ipython",
    "version": 3
   },
   "file_extension": ".py",
   "mimetype": "text/x-python",
   "name": "python",
   "nbconvert_exporter": "python",
   "pygments_lexer": "ipython3",
   "version": "3.8.2"
  }
 },
 "nbformat": 4,
 "nbformat_minor": 1
}
