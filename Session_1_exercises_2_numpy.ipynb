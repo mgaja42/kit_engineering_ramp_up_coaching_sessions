{
  "nbformat": 4,
  "nbformat_minor": 0,
  "metadata": {
    "colab": {
      "name": "Session-1_exercises_2_numpy.ipynb",
      "provenance": []
    },
    "kernelspec": {
      "name": "python3",
      "display_name": "Python 3"
    },
    "language_info": {
      "name": "python"
    }
  },
  "cells": [
    {
      "cell_type": "markdown",
      "source": [
        "# Exercises for the first coaching session of KIT+"
      ],
      "metadata": {
        "id": "SmbY0SfsmTL4"
      }
    },
    {
      "cell_type": "markdown",
      "source": [
        "## Exercise 2: Numpy"
      ],
      "metadata": {
        "id": "taOFN5nVmG8k"
      }
    },
    {
      "cell_type": "code",
      "execution_count": null,
      "metadata": {
        "id": "8qPc4QNVFQqq"
      },
      "outputs": [],
      "source": [
        "import numpy as np"
      ]
    },
    {
      "cell_type": "markdown",
      "source": [
        "Set the random seed for reproducability"
      ],
      "metadata": {
        "id": "A1BfwsqtK2sV"
      }
    },
    {
      "cell_type": "code",
      "source": [
        "np.random.seed(12)"
      ],
      "metadata": {
        "id": "uZXSjdPdK7Eh"
      },
      "execution_count": null,
      "outputs": []
    },
    {
      "cell_type": "markdown",
      "source": [
        "**Note:** Try to do the exercises on your own first. If you cannot find a solution or do not know a function from numpy, then you are allowed to google for it. But this exercise is meant as practise for you, so google should be your last resort. "
      ],
      "metadata": {
        "id": "XPtmN4F69L8s"
      }
    },
    {
      "cell_type": "markdown",
      "source": [
        " 1) Reverse the vector (first element becomes last)\n",
        "\n",
        " Expected output: `[9 8 7 6 5 4 3 2 1 0]`"
      ],
      "metadata": {
        "id": "n49s5YGcF823"
      }
    },
    {
      "cell_type": "code",
      "source": [
        "vec = np.arange(10)\n",
        "print(f\"Original Array: {vec}\")\n",
        "\n",
        "vec_rev = # your solution here\n",
        "print(f\"Reversed Array: {vec_rev}\")"
      ],
      "metadata": {
        "id": "LOI_KkfwF1H2"
      },
      "execution_count": null,
      "outputs": []
    },
    {
      "cell_type": "markdown",
      "source": [
        "2) Find indices of non-zero elements\n",
        "\n",
        " Expected output: `[0, 1, 4]`"
      ],
      "metadata": {
        "id": "WS9OeJJ6Gme7"
      }
    },
    {
      "cell_type": "code",
      "source": [
        "arr = np.array([5,2,0,0,3,0])\n",
        "non_zero_idx = # your solution here\n",
        "\n",
        "print(non_zero_idx)"
      ],
      "metadata": {
        "id": "nv-KsrDZGjfi"
      },
      "execution_count": null,
      "outputs": []
    },
    {
      "cell_type": "markdown",
      "source": [
        "3) Create a 5x5 array with random values (from 0 to 1.0) and find the minimum and maximum values\n",
        "\n",
        " Expected output: `Minimum: 0.002259`, `Maximum: 0.956949`"
      ],
      "metadata": {
        "id": "WWyD2TsCHQmI"
      }
    },
    {
      "cell_type": "code",
      "source": [
        "arr =  # your solution here\n",
        "print(f\"Array:\\n{arr}\")\n",
        "\n",
        "arr_min =  # your solution here\n",
        "arr_max =  # your solution here\n",
        "print(f\"\\nMinimum: {arr_min}\")\n",
        "print(f\"Maximum: {arr_max}\")"
      ],
      "metadata": {
        "id": "SA4omIvkHD_3"
      },
      "execution_count": null,
      "outputs": []
    },
    {
      "cell_type": "markdown",
      "source": [
        "4) Create a 5x5 matrix with row values ranging from 0 to 4\n",
        "\n",
        " Expected output: \n",
        " \n",
        " ```\n",
        "[[0. 1. 2. 3. 4.]\n",
        "[0. 1. 2. 3. 4.]\n",
        "[0. 1. 2. 3. 4.]\n",
        "[0. 1. 2. 3. 4.]\n",
        "[0. 1. 2. 3. 4.]]\n",
        "```"
      ],
      "metadata": {
        "id": "m8MS9R5mltP_"
      }
    },
    {
      "cell_type": "code",
      "source": [
        "arr = np.zeros((5,5))\n",
        "rows = np.arange(5)\n",
        "\n",
        "# your solution here\n",
        "\n",
        "print(arr)"
      ],
      "metadata": {
        "id": "lRiMKQJCGPQL"
      },
      "execution_count": null,
      "outputs": []
    },
    {
      "cell_type": "markdown",
      "source": [
        "5) Create random vector of size 10 and replace the maximum value by 0\n",
        "\n",
        " Expected output: \n",
        "```\n",
        "[0.67145265 0.47122978 0.8161683  0.28958678 0.73312598 0.70262236\n",
        " 0.32756948 0.33464753 0.         0.62458211]\n",
        "```"
      ],
      "metadata": {
        "id": "g61ZiOneJZCw"
      }
    },
    {
      "cell_type": "code",
      "source": [
        "arr = # your solution here\n",
        "print(arr)\n",
        "\n",
        "# your solution here\n",
        "print(arr)"
      ],
      "metadata": {
        "id": "MUK2XXR5Itwq"
      },
      "execution_count": null,
      "outputs": []
    },
    {
      "cell_type": "markdown",
      "source": [
        "6) Create a 8x8 matrix and fill it with a checkerboard pattern\n",
        "\n",
        " Expected output: \n",
        "```\n",
        "[[0 1 0 1 0 1 0 1]\n",
        " [1 0 1 0 1 0 1 0]\n",
        " [0 1 0 1 0 1 0 1]\n",
        " [1 0 1 0 1 0 1 0]\n",
        " [0 1 0 1 0 1 0 1]\n",
        " [1 0 1 0 1 0 1 0]\n",
        " [0 1 0 1 0 1 0 1]\n",
        " [1 0 1 0 1 0 1 0]]\n",
        "```\n",
        "\n"
      ],
      "metadata": {
        "id": "8K49xunQZy7N"
      }
    },
    {
      "cell_type": "code",
      "source": [
        "arr = np.zeros((8,8),dtype=int)\n",
        "\n",
        "# your solution here\n",
        "\n",
        "print(arr)"
      ],
      "metadata": {
        "id": "lbIEFfa-Kgn0"
      },
      "execution_count": null,
      "outputs": []
    },
    {
      "cell_type": "markdown",
      "source": [
        "7) Normalize a 5x5 random matrix\n",
        "\n",
        " Expected output: \n",
        " \n",
        "The mean of the normalized matrix will be 0 and the standard deviation will be 1"
      ],
      "metadata": {
        "id": "SoEkkxZzbOxC"
      }
    },
    {
      "cell_type": "code",
      "source": [
        "arr = # your solution here\n",
        "print(f\"Original array:\\n{arr}\")\n",
        "\n",
        "arr_norm = # your solution here\n",
        "print(f\"\\nNormalized array:\\n{arr_norm}\")\n",
        "print(f\"\\nMean: {round(np.mean(arr_norm), 8)}\")\n",
        "print(f\"\\nStandard deviation: {np.std(arr_norm)}\")"
      ],
      "metadata": {
        "id": "vFdrdsvdZmp9"
      },
      "execution_count": null,
      "outputs": []
    },
    {
      "cell_type": "code",
      "source": [
        ""
      ],
      "metadata": {
        "id": "5pfJZeBwak9O"
      },
      "execution_count": null,
      "outputs": []
    }
  ]
}