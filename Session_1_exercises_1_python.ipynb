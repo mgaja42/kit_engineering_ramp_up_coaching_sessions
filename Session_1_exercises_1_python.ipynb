{
  "nbformat": 4,
  "nbformat_minor": 0,
  "metadata": {
    "colab": {
      "name": "Session-1_exercises_1_python.ipynb",
      "provenance": []
    },
    "kernelspec": {
      "name": "python3",
      "display_name": "Python 3"
    },
    "language_info": {
      "name": "python"
    }
  },
  "cells": [
    {
      "cell_type": "markdown",
      "source": [
        "# Exercises for the first coaching session of KIT+"
      ],
      "metadata": {
        "id": "SmbY0SfsmTL4"
      }
    },
    {
      "cell_type": "markdown",
      "source": [
        "## Exercise 1: Python"
      ],
      "metadata": {
        "id": "c-qxj7a4mbq0"
      }
    },
    {
      "cell_type": "markdown",
      "source": [
        "Write a function to add a given integer value as a list to\n",
        "a dictionary if the given key is not present, and append the\n",
        "value to the list if the key is already present.\n",
        "\n",
        "\n",
        "Create a function which takes 3 arguments:\n",
        "\n",
        "\n",
        "1.   An input dictionary (of key = string type and value = list of integer type)\n",
        "2.   A string type for key\n",
        "3.   An integer type for value\n",
        "\n",
        "Your fucntion should return the updated dictionary\n",
        "\n",
        "Assume a dictionary d is given as input\n",
        "`d = {\"one\": [1], \"two\": [2], \"three\": [3]}`\n",
        "\n",
        "After calling your function as below,\n",
        "\n",
        "`d = your_function(d, \"one\", 1)`\n",
        "\n",
        "`d = your_function(d, \"four\", 4)`\n",
        "\n",
        "The output is expected to be:\n",
        "\n",
        "`print(d)`\n",
        "\n",
        "`{'one': [1, 1], 'two': [2], 'three': [3], 'four': [4]}`"
      ],
      "metadata": {
        "id": "ROY6j2n5mive"
      }
    },
    {
      "cell_type": "code",
      "source": [
        "def append_or_add_to_dict():\n",
        "  # Complete the function"
      ],
      "metadata": {
        "id": "v8YzqbX-m_Kt"
      },
      "execution_count": null,
      "outputs": []
    },
    {
      "cell_type": "code",
      "source": [
        "d = {\"one\": [1], \"two\": [2], \"three\": [3]}\n",
        "d = append_or_add_to_dict(d, \"one\", 1)\n",
        "d = append_or_add_to_dict(d, \"four\", 4)\n",
        "\n",
        "print(d)\n"
      ],
      "metadata": {
        "id": "AB0Ysp7unAJ_"
      },
      "execution_count": null,
      "outputs": []
    }
  ]
}